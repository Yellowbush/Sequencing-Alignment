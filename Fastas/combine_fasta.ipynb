{
 "cells": [
  {
   "cell_type": "code",
   "execution_count": 1,
   "metadata": {},
   "outputs": [],
   "source": [
    "def combine_fastas(input_files, output_file):\n",
    "    with open(output_file, 'w') as out_fasta:\n",
    "        for file_name in input_files:\n",
    "            with open(file_name, 'r') as in_fasta:\n",
    "                for line in in_fasta:\n",
    "                    out_fasta.write(line)\n",
    "\n",
    "\n",
    "input_files = ['Human.fasta', 'Chimpanzee.fasta', 'Bonobo.fasta', 'Bonobo.fasta', 'Bovine.fasta', 'fruitfly.fasta', 'mouse.fasta', 'fruitfly.fasta' ]\n",
    "output_file = 'combined.fasta'\n",
    "\n",
    "combine_fastas(input_files, output_file)"
   ]
  }
 ],
 "metadata": {
  "kernelspec": {
   "display_name": "Python 3",
   "language": "python",
   "name": "python3"
  },
  "language_info": {
   "codemirror_mode": {
    "name": "ipython",
    "version": 3
   },
   "file_extension": ".py",
   "mimetype": "text/x-python",
   "name": "python",
   "nbconvert_exporter": "python",
   "pygments_lexer": "ipython3",
   "version": "3.11.3"
  },
  "orig_nbformat": 4
 },
 "nbformat": 4,
 "nbformat_minor": 2
}
